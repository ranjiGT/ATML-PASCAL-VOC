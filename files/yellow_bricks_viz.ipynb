{
 "cells": [
  {
   "cell_type": "code",
   "execution_count": 1,
   "metadata": {},
   "outputs": [],
   "source": [
    "from yellowbrick.classifier import ClassificationReport\n",
    "from yellowbrick.classifier import ClassPredictionError\n",
    "from yellowbrick.classifier import ConfusionMatrix\n",
    "from yellowbrick.classifier import ROCAUC\n",
    "from yellowbrick.classifier import PrecisionRecallCurve\n",
    "from sklearn.metrics import classification_report\n",
    "import matplotlib.pyplot as plt\n",
    "import seaborn as sn\n",
    "import pandas as pd"
   ]
  },
  {
   "cell_type": "code",
   "execution_count": 2,
   "metadata": {},
   "outputs": [],
   "source": [
    "classs = ['aeroplane', 'bicycle', 'bird', 'boat',\n",
    "                         'bottle', 'bus', 'car', 'cat', 'chair',\n",
    "                         'cow', 'diningtable', 'dog', 'horse',\n",
    "                         'motorbike', 'person', 'pottedplant',\n",
    "                         'sheep', 'sofa', 'train', 'tvmonitor']"
   ]
  },
  {
   "cell_type": "markdown",
   "metadata": {},
   "source": [
    "#BOX Plot"
   ]
  },
  {
   "cell_type": "code",
   "execution_count": null,
   "metadata": {},
   "outputs": [],
   "source": [
    "\n",
    "# Transudctive - predict the labels of the unlabeled set\n",
    "# Inductive - predict the labels of the Test set\n",
    "yhat = model.predict(X_train_mixed[y_train_mixed==-1])\n",
    "\n",
    "# form the confusion matrix between above prediced labels and ground truth\n",
    "conf_matrix = confusion_matrix(y_test_unlab, yhat)\n",
    "\n",
    "# make the dataframe and plot the box plot \n",
    "df_cm = pd.DataFrame(conf_matrix, index = [i for i in classs],\n",
    "                  columns = [i for i in classs])\n",
    "df_cm = df_cm.astype(int)\n",
    "plt.figure(figsize = (15,10))\n",
    "sn.heatmap(df_cm, annot=True, fmt=\"d\")"
   ]
  },
  {
   "cell_type": "markdown",
   "metadata": {},
   "source": [
    "clas prediction error "
   ]
  },
  {
   "cell_type": "code",
   "execution_count": null,
   "metadata": {},
   "outputs": [],
   "source": [
    "# in the ClassPredictionError pass the best model with the parameters\n",
    "visualizer = ClassPredictionError(LabelPropagation(kernel = 'rbf', gamma=12, max_iter=1500), classes=classs)\n",
    "\n",
    "#train it on the training set\n",
    "visualizer.fit(X_train_mixed, y_train_mixed)\n",
    "\n",
    "#Evaluate it on the unlabled set (for Transductive model) or on test set (for inductive Model)\n",
    "visualizer.score(X_train_mixed[y_train_mixed==-1], y_test_unlab)\n",
    "\n",
    "# visualize\n",
    "visualizer.show()"
   ]
  },
  {
   "cell_type": "markdown",
   "metadata": {},
   "source": [
    "ROC AUC curve"
   ]
  },
  {
   "cell_type": "code",
   "execution_count": null,
   "metadata": {},
   "outputs": [],
   "source": [
    "# in the ROCAUC fucntion pass the best model with the parameters\n",
    "visualizer = ROCAUC(LabelPropagation(kernel = 'rbf', gamma=12, max_iter=1500), classes=classs)\n",
    "\n",
    "#train it on the training set\n",
    "visualizer.fit(X_train_mixed, y_train_mixed)\n",
    "\n",
    "#Evaluate it on the unlabled set (for Transductive model) or on test set (for inductive Model)\n",
    "visualizer.score(X_train_mixed[y_train_mixed==-1], y_test_unlab)\n",
    "\n",
    "# visualize\n",
    "visualizer.show()"
   ]
  },
  {
   "cell_type": "markdown",
   "metadata": {},
   "source": [
    "classfication report"
   ]
  },
  {
   "cell_type": "code",
   "execution_count": null,
   "metadata": {},
   "outputs": [],
   "source": [
    "#Evaluate it on the unlabled set (for Transductive model) or on test set (for inductive Model)\n",
    "yhat = model.predict(X_train_mixed[y_train_mixed==-1])\n",
    "\n",
    "#Print the report\n",
    "print(classification_report(y_test_unlab, yhat, target_names=classs))\n"
   ]
  }
 ],
 "metadata": {
  "kernelspec": {
   "display_name": "Python 3",
   "language": "python",
   "name": "python3"
  },
  "language_info": {
   "codemirror_mode": {
    "name": "ipython",
    "version": 3
   },
   "file_extension": ".py",
   "mimetype": "text/x-python",
   "name": "python",
   "nbconvert_exporter": "python",
   "pygments_lexer": "ipython3",
   "version": "3.8.5"
  }
 },
 "nbformat": 4,
 "nbformat_minor": 4
}
